{
  "nbformat": 4,
  "nbformat_minor": 0,
  "metadata": {
    "colab": {
      "provenance": [],
      "include_colab_link": true
    },
    "kernelspec": {
      "name": "python3",
      "display_name": "Python 3"
    },
    "language_info": {
      "name": "python"
    }
  },
  "cells": [
    {
      "cell_type": "markdown",
      "metadata": {
        "id": "view-in-github",
        "colab_type": "text"
      },
      "source": [
        "<a href=\"https://colab.research.google.com/github/emiliomercuri/EnvHidrology2024/blob/main/aulas/2024_03_08-Aula_04/_2024_03_08_Exerci%CC%81cio_fator_atrito.ipynb\" target=\"_parent\"><img src=\"https://colab.research.google.com/assets/colab-badge.svg\" alt=\"Open In Colab\"/></a>"
      ]
    },
    {
      "cell_type": "markdown",
      "source": [
        "## Exercício - Escoamento em Canal Aberto - Equações de projeto\n",
        "\n",
        "Calcule o Valor do fator de atrito (coeficiente de atrito de Darcy-Weisbach) com 8 casas decimais.\n",
        "\n",
        "O escoamento tem número de Reynolds $2500$ e uma rugosidade relativa de $0.012$."
      ],
      "metadata": {
        "id": "TpaWpU49rIDP"
      }
    },
    {
      "cell_type": "markdown",
      "source": [
        "Isolando o $f$ temos:\n",
        "\n",
        "$\\begin{aligned}\n",
        "\\sqrt{f} &=\\frac{1}{-2 \\log _{10}\\left[\\frac{\\epsilon}{3}+\\frac{2.5}{\\operatorname{Re} \\sqrt{f}}\\right] }\n",
        "\\end{aligned}$\n",
        "\n",
        "$\\begin{aligned}\n",
        "f &= \\left( \\frac{-1}{2 \\log _{10}\\left[\\frac{\\epsilon}{3}+\\frac{2.5}{\\operatorname{Re} \\sqrt{f}}\\right] } \\right)^2\n",
        "\\end{aligned}$"
      ],
      "metadata": {
        "id": "zHW8Jh6BTXtC"
      }
    },
    {
      "cell_type": "code",
      "source": [
        "import numpy"
      ],
      "metadata": {
        "id": "LKxz2NbES9n2"
      },
      "execution_count": null,
      "outputs": []
    },
    {
      "cell_type": "code",
      "source": [
        "Re = 2500\n",
        "epsilon = 0.012"
      ],
      "metadata": {
        "id": "BuMpdSrITW0K"
      },
      "execution_count": null,
      "outputs": []
    },
    {
      "cell_type": "code",
      "source": [
        "def fator_atrito(f,epsilon,Re):\n",
        "  colchetes = epsilon/3.0+2.5/(Re*numpy.sqrt(f))\n",
        "  return ((-1)/(2*numpy.log10(colchetes)))**2"
      ],
      "metadata": {
        "id": "cJBS9FoYTW27"
      },
      "execution_count": null,
      "outputs": []
    },
    {
      "cell_type": "code",
      "source": [
        "tolerancia = 1.0\n",
        "f_old = 0.2\n",
        "i = 0\n",
        "\n",
        "while tolerancia > 1E-8:\n",
        "  i += 1\n",
        "  f_new = fator_atrito(f_old,epsilon,Re)\n",
        "  tolerancia = abs(f_new-f_old)\n",
        "  f_old = f_new\n",
        "  print(i,f_new)"
      ],
      "metadata": {
        "colab": {
          "base_uri": "https://localhost:8080/"
        },
        "id": "w6bvk9nKTW5p",
        "outputId": "6a507529-350a-4528-e478-413dccb29019"
      },
      "execution_count": null,
      "outputs": [
        {
          "output_type": "stream",
          "name": "stdout",
          "text": [
            "1 0.05141474667198603\n",
            "2 0.05805267942354648\n",
            "3 0.05729771410352624\n",
            "4 0.05737733446003255\n",
            "5 0.05736886820233528\n",
            "6 0.05736976765954156\n",
            "7 0.057369672092148855\n",
            "8 0.0573696822460913\n",
            "9 0.05736968116724366\n"
          ]
        }
      ]
    },
    {
      "cell_type": "markdown",
      "source": [
        "O fator de atrito de Darcy-Weisbach é: 0.05736968116724366"
      ],
      "metadata": {
        "id": "auye--yu08lH"
      }
    },
    {
      "cell_type": "code",
      "source": [
        "tolerancia = 1.0\n",
        "f_old = 0.000001\n",
        "i = 0\n",
        "\n",
        "while tolerancia > 1E-8:\n",
        "  i += 1\n",
        "  f_new = fator_atrito(f_old,epsilon,Re)\n",
        "  tolerancia = abs(f_new-f_old)\n",
        "  f_old = f_new\n",
        "  print(i,f_new)"
      ],
      "metadata": {
        "colab": {
          "base_uri": "https://localhost:8080/"
        },
        "id": "fPHxoKAW1HC4",
        "outputId": "2daa24fd-3e50-4aef-c62e-6f4350cc0385"
      },
      "execution_count": null,
      "outputs": [
        {
          "output_type": "stream",
          "name": "stdout",
          "text": [
            "1 83173.63706425233\n",
            "2 0.04349103059717736\n",
            "3 0.05915563050876673\n",
            "4 0.057183972290987366\n",
            "5 0.05738945764259567\n",
            "6 0.05736758055697704\n",
            "7 0.05736990447561483\n",
            "8 0.05736965755561557\n",
            "9 0.05736968379058589\n",
            "10 0.05736968100314247\n"
          ]
        }
      ]
    },
    {
      "cell_type": "markdown",
      "source": [
        "O resultado é independente do valor inicial do chute para `f_old`\n"
      ],
      "metadata": {
        "id": "sCZx4I1Q1pAy"
      }
    }
  ]
}