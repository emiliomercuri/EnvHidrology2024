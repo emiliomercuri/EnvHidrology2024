{
  "nbformat": 4,
  "nbformat_minor": 0,
  "metadata": {
    "colab": {
      "provenance": [],
      "authorship_tag": "ABX9TyP7Q761OgECbm8P7AzI6mBH",
      "include_colab_link": true
    },
    "kernelspec": {
      "name": "python3",
      "display_name": "Python 3"
    },
    "language_info": {
      "name": "python"
    }
  },
  "cells": [
    {
      "cell_type": "markdown",
      "metadata": {
        "id": "view-in-github",
        "colab_type": "text"
      },
      "source": [
        "<a href=\"https://colab.research.google.com/github/emiliomercuri/EnvHidrology2024/blob/main/aulas/2024_05_15-Aula14/Exemplo_Modelo_Green_Ampt_(Newton_Raphson).ipynb\" target=\"_parent\"><img src=\"https://colab.research.google.com/assets/colab-badge.svg\" alt=\"Open In Colab\"/></a>"
      ]
    },
    {
      "cell_type": "markdown",
      "metadata": {
        "id": "s8viE3GkovM-"
      },
      "source": [
        "## Exemplo da Aplicação do Modelo de Green-Ampt\n",
        "\n"
      ]
    },
    {
      "cell_type": "markdown",
      "metadata": {
        "id": "Oz6E-IYXo1w1"
      },
      "source": [
        "Considere um solo Franco Siltoso com saturação efetiva de 30\\% ($s_e = 30\\%$)\n",
        "\n",
        "<p align=\"center\">\n",
        "  <img src=\"https://www.dropbox.com/s/n5amddjxck2gtpc/Tabela2.png?dl=1\"  width=\"800\" />\n",
        "</p>\n",
        "\n"
      ]
    },
    {
      "cell_type": "markdown",
      "metadata": {
        "id": "ONEekxK_p2n1"
      },
      "source": [
        "Das informações dadas (tipo do solo) e da tabela acima, temos que:\n",
        "\n",
        "* $s_e = 30\\%$\n",
        "* $\\eta = 0.501$\n",
        "* $\\theta_e = 0.486$\n",
        "* $\\psi = 16.68$ cm\n",
        "* $K = 0.65$ cm/h"
      ]
    },
    {
      "cell_type": "markdown",
      "metadata": {
        "id": "Z_LTbzV0qrtg"
      },
      "source": [
        "#### **Determine**: a taxa de infiltração $f$ e a infiltração acumulada $F$ após 1 hora de infiltração no solo mencionado."
      ]
    },
    {
      "cell_type": "markdown",
      "metadata": {
        "id": "TVqGQdT5q-tt"
      },
      "source": [
        "Equações estudadas em aula:\n",
        "\n",
        "$$\n",
        "\\Delta \\theta=\\left(1-s_{e}\\right) \\theta_{e} \\quad \\quad s_{e}=\\frac{\\theta-\\theta_{r}}{\\eta-\\theta_{r}} \\quad \\quad \\Delta \\theta=\\eta-\\theta_{i}\n",
        "$$\n",
        "\n",
        "Modelo de Green-Ampt\n",
        "$$\n",
        "f=K\\left(\\frac{\\psi \\Delta \\theta}{F}+1\\right) \\quad \\quad F-\\psi \\Delta \\theta \\ln \\left(1+\\frac{F}{\\psi \\Delta \\theta}\\right)=K t\n",
        "$$\n"
      ]
    },
    {
      "cell_type": "markdown",
      "metadata": {
        "id": "axfHD2m0r8pz"
      },
      "source": [
        "**Solução**: Resolver iterativamente o **modelo de Green-Ampt** para a Infiltração Acumulada $F(t)$ utilizando o **método de Newtpn-Raphson.**\n",
        "\n",
        "$$\n",
        "F = K t + \\psi \\Delta \\theta \\ln \\left(1+\\frac{F}{\\psi \\Delta \\theta}\\right)\n",
        "$$\n",
        "\n",
        "Já conhecemos:\n",
        "\n",
        "$$\n",
        "\\Delta \\theta=\\left(1-s_{e}\\right) \\theta_{e} = (1-0.3)(0.486) = 0.3402\n",
        "$$\n",
        "\n",
        "E o termo $\\psi \\Delta \\theta$:\n",
        "\n",
        "$$\n",
        "\\psi \\Delta \\theta = 5.674536\n",
        "$$\n",
        "\n",
        "Para $t = 1$ hora a equação fica:\n",
        "\n",
        "$$\n",
        "F = 0.65 + 5.674536 \\ln \\left(1+\\frac{F}{5.674536}\\right)\n",
        "$$\n",
        "\n"
      ]
    },
    {
      "cell_type": "markdown",
      "source": [
        "## Método de Newton-Raphson\n",
        "\n",
        "O método de Newton, também conhecido como método de Newton-Raphson, em homenagem a Isaac Newton e Joseph Raphson, é um algoritmo de localização de raízes que produz aproximações sucessivamente para as raízes (ou zeros) de uma função de valor real.\n",
        "\n",
        "\n",
        "$x_{n+1}=x_n-\\frac{f\\left(x_n\\right)}{f^{\\prime}\\left(x_n\\right)}$\n",
        "\n",
        "https://en.wikipedia.org/wiki/Newton%27s_method\n",
        "\n",
        "no nosso caso (para as nossas variáveis):\n",
        "\n",
        "$\\displaystyle F_{n+1}=F_n-\\frac{g\\left(F_n\\right)}{g^{\\prime}\\left(F_n\\right)}$\n",
        "\n",
        "A função a ser encontrada as raízes é:\n",
        "\n",
        "\n",
        "$$\n",
        "g =  0.65 + 5.674536 \\ln \\left(1+\\frac{F}{5.674536}\\right) - F\n",
        "$$\n",
        "\n",
        "$$\n",
        "g =  0.65 + 5.674536 \\ln \\left(\\frac{5.674536 + F}{5.674536}\\right) - F\n",
        "$$\n",
        "\n",
        "Derivada do $\\ln x$:\n",
        "\n",
        "$$\n",
        "g(x) = \\ln x\n",
        "$$\n",
        "\n",
        "\n",
        "$$\n",
        "\\frac{dg}{dx} = \\frac{1}{x}\n",
        "$$\n",
        "\n",
        "Portanto, usando a regra da cadeia:\n",
        "\n",
        "$$\n",
        "\\frac{dg}{dF} = 5.674536 \\frac{5.674536}{5.674536 + F} \\frac{d}{dF} \\left(\\frac{5.674536 + F}{5.674536}\\right) - 1\n",
        "$$\n",
        "\n",
        "$$\n",
        "\\frac{dg}{dF} =  \\frac{5.674536}{5.674536 + F} - 1\n",
        "$$\n",
        "\n",
        "Equação do método:\n",
        "\n",
        "$\\displaystyle F_{n+1}=F_n-\\frac{g\\left(F_n\\right)}{g^{\\prime}\\left(F_n\\right)}$"
      ],
      "metadata": {
        "id": "XmkNc0o-Lzwy"
      }
    },
    {
      "cell_type": "code",
      "metadata": {
        "id": "fCzxyzKttkGe"
      },
      "source": [
        "numpy.log?"
      ],
      "execution_count": null,
      "outputs": []
    },
    {
      "cell_type": "code",
      "metadata": {
        "id": "RCACJ0G5thxw"
      },
      "source": [
        "import numpy"
      ],
      "execution_count": null,
      "outputs": []
    },
    {
      "cell_type": "code",
      "metadata": {
        "id": "vTLXaGNeoq07"
      },
      "source": [
        "## Definição de função para cálculo de F\n",
        "def funcao(F):\n",
        "  return 0.65 + 5.674536*numpy.log(1+F/5.674536) - F"
      ],
      "execution_count": null,
      "outputs": []
    },
    {
      "cell_type": "code",
      "source": [
        "## Definição de função para cálculo da derivada de F\n",
        "def derivada(F):\n",
        "  return 5.674536/(5.674536+F) - 1"
      ],
      "metadata": {
        "id": "zPnQ6NKWNsDQ"
      },
      "execution_count": null,
      "outputs": []
    },
    {
      "cell_type": "code",
      "metadata": {
        "colab": {
          "base_uri": "https://localhost:8080/"
        },
        "id": "moUvevAKtuft",
        "outputId": "2b641680-de3b-428b-93d6-17b6cfd18113"
      },
      "source": [
        "tolerancia = 10**(-6)\n",
        "erro = 100\n",
        "\n",
        "# chute inicial: F = K*t\n",
        "F = 0.65\n",
        "\n",
        "i = 0\n",
        "while erro > tolerancia:\n",
        "  F_novo = F - funcao(F)/derivada(F)\n",
        "  erro = abs(F_novo-F)\n",
        "  print(i, F_novo)\n",
        "  F = F_novo\n",
        "  i += 1\n"
      ],
      "execution_count": null,
      "outputs": [
        {
          "output_type": "stream",
          "name": "stdout",
          "text": [
            "0 6.637792084135656\n",
            "1 3.684397178748581\n",
            "2 3.188595866709142\n",
            "3 3.1656481965726386\n",
            "4 3.1655949915986064\n",
            "5 3.1655949913116053\n"
          ]
        }
      ]
    },
    {
      "cell_type": "code",
      "metadata": {
        "colab": {
          "base_uri": "https://localhost:8080/"
        },
        "id": "1eyeP2l-vuiL",
        "outputId": "3c71c083-0cda-4b86-97af-eaa0accf13c0"
      },
      "source": [
        "print(F, 'cm')"
      ],
      "execution_count": null,
      "outputs": [
        {
          "output_type": "stream",
          "name": "stdout",
          "text": [
            "3.1655949913116053 cm\n"
          ]
        }
      ]
    },
    {
      "cell_type": "code",
      "metadata": {
        "id": "J_Wcr9opvd-I"
      },
      "source": [
        "delta_theta = 0.3402\n",
        "psi = 16.68 # cm\n",
        "K = 0.65 # cm/h"
      ],
      "execution_count": null,
      "outputs": []
    },
    {
      "cell_type": "code",
      "metadata": {
        "colab": {
          "base_uri": "https://localhost:8080/"
        },
        "id": "gLNccAlKvUdL",
        "outputId": "5975e0b7-e126-4b4f-c478-29caa526be56"
      },
      "source": [
        "# Taxa de infiltração\n",
        "f = K*(psi*delta_theta/F + 1)\n",
        "print(f, 'cm/h')"
      ],
      "execution_count": null,
      "outputs": [
        {
          "output_type": "stream",
          "name": "stdout",
          "text": [
            "1.8151674993558666 cm/h\n"
          ]
        }
      ]
    },
    {
      "cell_type": "code",
      "metadata": {
        "id": "Car21FKbqwFt",
        "colab": {
          "base_uri": "https://localhost:8080/"
        },
        "outputId": "958efa71-2335-4fba-bbfc-b6a18303ff05"
      },
      "source": [
        "# Taxa de infiltração\n",
        "f = K*(psi*delta_theta/F + 1)\n",
        "print('F = ',F, 'cm')\n",
        "print('f = ',f, 'cm/h')"
      ],
      "execution_count": null,
      "outputs": [
        {
          "output_type": "stream",
          "name": "stdout",
          "text": [
            "F =  3.1655949913116053 cm\n",
            "f =  1.8151674993558666 cm/h\n"
          ]
        }
      ]
    },
    {
      "cell_type": "code",
      "source": [],
      "metadata": {
        "id": "T0M1am-RR__a"
      },
      "execution_count": null,
      "outputs": []
    }
  ]
}