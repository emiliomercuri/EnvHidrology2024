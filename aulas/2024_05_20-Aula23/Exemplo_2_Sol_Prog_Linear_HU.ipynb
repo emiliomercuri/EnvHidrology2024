{
  "nbformat": 4,
  "nbformat_minor": 0,
  "metadata": {
    "colab": {
      "provenance": []
    },
    "kernelspec": {
      "name": "python3",
      "display_name": "Python 3"
    },
    "language_info": {
      "name": "python"
    }
  },
  "cells": [
    {
      "cell_type": "markdown",
      "source": [
        "# Programação Linear\n",
        "\n",
        "## Usando scipy.optimize.linprog\n",
        "\n",
        "`scipy.optimize.linprog(c, A_ub=None, b_ub=None, A_eq=None, b_eq=None, bounds=(0, None), method='highs', callback=None, options=None, x0=None, integrality=None)`\n",
        "\n",
        "\n",
        "Linear programming: minimize a linear objective function subject to linear equality and inequality constraints.\n",
        "\n",
        "Linear programming solves problems of the following form:\n",
        "\n",
        "\\begin{equation}\n",
        "\\begin{aligned}\n",
        "& \\min _x c^T x \\\\\n",
        "& \\text { such that } A_{u b} x \\leq b_{u b} \\\\\n",
        "& A_{e q} x=b_{e q} \\\\\n",
        "& l \\leq x \\leq u\n",
        "\\end{aligned}\n",
        "\\end{equation}\n",
        "\n",
        "where $x$ is a vector of decision variables; $c$, $b_{u b}$, $b_{e q}$, $l$ and $u$ are vectors; and $A_{u b}$ and $A_{e q}$ are matrices.\n"
      ],
      "metadata": {
        "id": "QdLjdKUI6xgc"
      }
    },
    {
      "cell_type": "markdown",
      "source": [
        "# Exemplo\n",
        "\n",
        "Para obter as ordenadas do Hidrograma Unitário vamos usar a equação:\n",
        "$$\n",
        "Q_{n}=\\sum_{m=1}^{n \\leq M} P_{m} U_{n-m+1}\n",
        "$$\n",
        "\n",
        "\n",
        "\n",
        "Como N = 4 e M = 2, temos N-M+1 = 3.\n",
        "\\begin{equation}\n",
        "\t\\left[ P \\right]_{4 \\times 3} \\left[ U \\right]_{3 \\times 1} = \\left[ Q \\right]_{4 \\times 1}\n",
        "\\end{equation}\n",
        "\n",
        "As matrizes são:\n",
        "\n",
        "$$\n",
        "\\begin{bmatrix}\n",
        "\tP_1 & 0 & 0 \\\\\n",
        "\tP_2 & P_1 & 0 \\\\\n",
        "\t0 & P_2& P_1  \\\\\n",
        "\t0 & 0 & P_2  \\\\\n",
        "\\end{bmatrix}\n",
        "\\begin{Bmatrix}\n",
        "\tU_1\\\\\n",
        "\tU_2\\\\\n",
        "\tU_3\\\\\n",
        "\\end{Bmatrix}\n",
        "=\n",
        "\\begin{Bmatrix}\n",
        "\tQ_1\\\\\n",
        "\tQ_2\\\\\n",
        "\tQ_3\\\\\n",
        "\tQ_4\\\\\n",
        "\\end{Bmatrix}\n",
        "$$\n",
        "\n",
        "Ou em termos de equações algébricas temos:\n",
        "\n",
        "* $P_1 U_1 = Q_1$\n",
        "* $P_1 U_2 + P_2 U_1 = Q_2$\n",
        "* $P_1 U_{3} + P_2 U_{2} = Q_3$\n",
        "* $P_2 U_{3} = Q_4$"
      ],
      "metadata": {
        "id": "N0LkMQ-J5aoJ"
      }
    },
    {
      "cell_type": "markdown",
      "source": [
        "# Problema de otimização\n",
        "\n",
        "Desenvolva um código de programação linear para resolver a Eq. matricial $\t\\left[ P \\right] \\left[ U \\right] = \\left[ Q \\right]$ para o hidrograma unitário dado a Precipitação Efetiva ERH (Effective Rainfall Hyetograph)  $P_m = 1,2,. . .,M$, e o Escoamento Direto DRH (Direct Runoff Hydrograph) $Q_n = 1,2,. . .,N$.\n",
        "\n",
        "O objetivo é minimizar $\\sum_{n=1}^N\\left|\\epsilon_n\\right|$ onde $\\epsilon_n = \\widehat{Q}_n - Q_n$. O problema de Programação Linear exige que todas as variáveis sejam não negativas; para realizar esta tarefa, $\\epsilon_n$ é dividido em dois componentes, um desvio positivo $\\theta_n$ e um desvio negativo $\\beta_n$.\n",
        "\n",
        "No caso em que $\\epsilon_n > 0$, ou seja, quando o escoamento direto observado $Q_n$ é maior que o valor calculado $\\widehat{Q}_n$, $\\theta_n = \\epsilon_n$ e $\\beta_n = 0$. Agora, quando $\\epsilon_n < 0$, $\\beta_n = -\\epsilon_n$ e $\\theta_n = 0$.\n",
        "\n",
        "Portanto, a solução deve obedecer:\n",
        "\n",
        "$$\n",
        "Q_n= \\widehat{Q}_n -\\beta_n+\\theta_n \\quad n=1,2, \\ldots, N\n",
        "$$\n",
        "\n",
        "e a função objetivo é:\n",
        "\n",
        "$$\n",
        "\\operatorname{minimize} \\sum_{n=1}^N\\left(\\theta_n+\\beta_n\\right)\n",
        "$$\n",
        "\n",
        "As restrições podem ser escritas na forma matricial:\n",
        "\n",
        "$$\n",
        "\\left[\\widehat{Q}_n\\right]+\\left[\\theta_n\\right]-\\left[\\beta_n\\right]=\\left[Q_n\\right]\n",
        "$$\n",
        "\n",
        "Ou expandidas em:\n",
        "\n",
        "$$\n",
        "P_n U_1+P_{n-1} U_2+\\ldots+P_{n-M+1} U_M+\\theta_n-\\beta_n=Q_n \\quad n=1, \\ldots, N\n",
        "$$\n",
        "\n",
        "Para garantir que o hidrograma unitário represente uma unidade de escoamento direto, é adicionada uma equação de restrição adicional:\n",
        "\n",
        "$$\n",
        "\\sum_{m=1}^{N-M+1} U_m=K\n",
        "$$\n",
        "\n",
        "onde $K$ é uma constante que converte as unidades do ERH nas unidades do DRH.\n",
        "\n",
        "\n",
        "As equações acima constituem um problema de programação linear com variáveis de decisão (ou incógnitas) $U_m$, $\\theta_n$ e $\\beta_n$ que podem ser resolvidas usando algoritmos padrões de programação linear. A programação linear exige que todas as variáveis de decisão sejam não negativas, garantindo assim que as ordenadas do hidrograma unitário serão não negativas."
      ],
      "metadata": {
        "id": "R563K2OVBFT_"
      }
    },
    {
      "cell_type": "markdown",
      "source": [
        "# Exemplo\n",
        "\n",
        "A função objetivo é:\n",
        "\n",
        "$$\n",
        "\\operatorname{minimize} \\theta_1 + \\beta_1 + \\theta_2 + \\beta_2 + \\theta_3 + \\beta_3 + \\theta_4 + \\beta_4\n",
        "$$\n",
        "\n",
        "Restrições de igualdade:\n",
        "\n",
        "* $P_1 U_1 + \\theta_1 - \\beta_1 = Q_1$\n",
        "* $P_1 U_2 + P_2 U_1 + \\theta_2 - \\beta_2 = Q_2$\n",
        "* $P_1 U_{3} + P_2 U_{2} + \\theta_3 - \\beta_3= Q_3$\n",
        "* $P_2 U_{3} + \\theta_4 - \\beta_4 = Q_4$\n",
        "\n",
        "Mais uma restrição:\n",
        "\n",
        "$P_1 U_1 = Q_1$\n",
        "\n",
        "\n",
        "Fazendo:\n",
        "\n",
        "* $x_0 = \\theta_1$\n",
        "* $x_1 = \\beta_1$\n",
        "* $x_2 = \\theta_2$\n",
        "* $x_3 = \\beta_2$\n",
        "* $x_4 = \\theta_3$\n",
        "* $x_5 = \\beta_3$\n",
        "* $x_6 = \\theta_4$\n",
        "* $x_7 = \\beta_4$\n",
        "* $x_8 = U_1$\n",
        "* $x_9 = U_2$\n",
        "* $x_{10} = U_3$\n",
        "\n",
        "### Renomeando as variáveis\n",
        "\n",
        "Temos o seguinte problema:\n",
        "\n",
        "\\begin{equation}\n",
        "\\begin{aligned}\n",
        "\\min _{x_0 ... x_{10}} x_0 + x_1 + x_2 + x_3 + x_4 + x_5 + x_6 + x_7 & \\\\\n",
        "\\text { tal que } \\quad\\quad\\quad\\quad\\quad  P_1 x_8 + x_0 - x_1 & = Q_1, \\\\\n",
        "P_1 x_9 + P_2 x_8 + x_2 - x_3 & = Q_2, \\\\\n",
        "P_1 x_{10} + P_2 x_9 + x_4 - x_5 & = Q_3, \\\\\n",
        "P_2 x_{10} + x_6 - x_7 & = Q_4, \\\\\n",
        "x_8 + x_9 + x_{10} & = K\n",
        "\\end{aligned}\n",
        "\\end{equation}\n",
        "\n",
        "Mais restrições (vou usar a primeira para não deixar $x_8 = U_1 = 0$):\n",
        "\n",
        "\\begin{equation}\n",
        "\\begin{aligned}\n",
        "P_1 x_8 & = Q_1, \\\\\n",
        "P_1 x_9 + P_2 x_8 & = Q_2, \\\\\n",
        "P_1 x_{10} + P_2 x_9  & = Q_3, \\\\\n",
        "P_2 x_{10} & = Q_4\n",
        "\\end{aligned}\n",
        "\\end{equation}\n",
        "\n",
        "\n",
        "Limites de cada $x_i$:\n",
        "\n",
        "\\begin{equation}\n",
        "\\begin{aligned}\n",
        "0 \\leq x_0 & \\leq \\infty, \\\\\n",
        "0 \\leq x_1 & \\leq \\infty, \\\\\n",
        "0 \\leq x_2 & \\leq \\infty, \\\\\n",
        "0 \\leq x_3 & \\leq \\infty, \\\\\n",
        "\\cdots \\\\\n",
        "0 \\leq x_{10} & \\leq \\infty,\n",
        "\\end{aligned}\n",
        "\\end{equation}\n",
        "\n",
        "\n",
        "After collecting coeffecients into arrays and tuples, the input for this problem is:\n"
      ],
      "metadata": {
        "id": "oh33DIITI35r"
      }
    },
    {
      "cell_type": "code",
      "execution_count": 1,
      "metadata": {
        "id": "MHYm4UV45OWK"
      },
      "outputs": [],
      "source": [
        "from scipy.optimize import linprog"
      ]
    },
    {
      "cell_type": "code",
      "source": [
        "P1 = 1\n",
        "P2 = 2\n",
        "Q1 = 1\n",
        "Q2 = 2\n",
        "Q3 = 10\n",
        "Q4 = 2\n",
        "\n",
        "# Encontrando o K\n",
        "soma_P = P1 + P2\n",
        "soma_Q = Q1 + Q2 + Q3 + Q4\n",
        "K = soma_Q / soma_P\n",
        "K"
      ],
      "metadata": {
        "id": "nfqoGWA7Vpyc",
        "colab": {
          "base_uri": "https://localhost:8080/"
        },
        "outputId": "432297a2-706f-4f9a-ec4b-e8025f2e8467"
      },
      "execution_count": 2,
      "outputs": [
        {
          "output_type": "execute_result",
          "data": {
            "text/plain": [
              "5.0"
            ]
          },
          "metadata": {},
          "execution_count": 2
        }
      ]
    },
    {
      "cell_type": "code",
      "source": [
        "# c =  [1, 1, 1, 1, 1, 1, 1, 1, 0,   0,  0]\n",
        "# A = [[1,-1, 0, 0, 0, 0, 0, 0, P1,  0,  0],\n",
        "#      [0, 0, 0, 0, 0, 0, 0, 0, P1,  0,  0],\n",
        "#      [0, 0, 1,-1, 0, 0, 0, 0, P2, P1,  0],\n",
        "#      [0, 0, 0, 0, 0, 0, 0, 0, P2, P1,  0],\n",
        "#      [0, 0, 0, 0, 1,-1, 0, 0, 0,  P2,  P1],\n",
        "#      [0, 0, 0, 0, 0, 0, 0, 0, 0,  P2,  P1],\n",
        "#      [0, 0, 0, 0, 0, 0, 1,-1, 0,   0,  P2],\n",
        "#      [0, 0, 0, 0, 0, 0, 0, 0, 0,   0,  P2],\n",
        "#      [0, 0, 0, 0, 0, 0, 0, 0, 1,   1,  1]]\n",
        "# b =  [Q1, Q1, Q2, Q2, Q3, Q3, Q4, Q4, K]"
      ],
      "metadata": {
        "id": "lmYM7DISsnYr"
      },
      "execution_count": null,
      "outputs": []
    },
    {
      "cell_type": "code",
      "source": [
        "c =  [1, 1, 1, 1, 1, 1, 1, 1, 0,   0,  0]\n",
        "A = [[1,-1, 0, 0, 0, 0, 0, 0, P1,  0,  0],\n",
        "     [0, 0, 0, 0, 0, 0, 0, 0, P1,  0,  0],\n",
        "     [0, 0, 1,-1, 0, 0, 0, 0, P2, P1,  0],\n",
        "     [0, 0, 0, 0, 1,-1, 0, 0, 0,  P2,  P1],\n",
        "     [0, 0, 0, 0, 0, 0, 1,-1, 0,   0,  P2],\n",
        "     [0, 0, 0, 0, 0, 0, 0, 0, 1,   1,  1]]\n",
        "b =  [Q1, Q1, Q2, Q3, Q4, K]"
      ],
      "metadata": {
        "id": "GmHr_BwX3G2c"
      },
      "execution_count": 10,
      "outputs": []
    },
    {
      "cell_type": "code",
      "source": [
        "# c =  [1, 1, 1, 1, 1, 1, 1, 1, 0,   0,  0]\n",
        "# A = [[1,-1, 0, 0, 0, 0, 0, 0, P1,  0,  0],\n",
        "#      [0, 0, 1,-1, 0, 0, 0, 0, P2, P1,  0],\n",
        "#      [0, 0, 0, 0, 1,-1, 0, 0, 0,  P2,  P1],\n",
        "#      [0, 0, 0, 0, 0, 0, 1,-1, 0,   0,  P2],\n",
        "#      [0, 0, 0, 0, 0, 0, 0, 0, 1,   1,  1]]\n",
        "# b =  [Q1, Q2, Q3, Q4, K]"
      ],
      "metadata": {
        "id": "7joi9cZ-6abu"
      },
      "execution_count": 11,
      "outputs": []
    },
    {
      "cell_type": "code",
      "source": [
        "#res = linprog(c, A_eq=A, b_eq=b, method = 'highs-ipm')\n",
        "res = linprog(c, A_eq=A, b_eq=b)\n",
        "res.fun"
      ],
      "metadata": {
        "colab": {
          "base_uri": "https://localhost:8080/"
        },
        "id": "1A4oZy1p6don",
        "outputId": "fc45814e-b390-40e1-ea42-6acab9efbd8d"
      },
      "execution_count": 12,
      "outputs": [
        {
          "output_type": "execute_result",
          "data": {
            "text/plain": [
              "6.0"
            ]
          },
          "metadata": {},
          "execution_count": 12
        }
      ]
    },
    {
      "cell_type": "code",
      "source": [
        "res.x"
      ],
      "metadata": {
        "colab": {
          "base_uri": "https://localhost:8080/"
        },
        "id": "A26-oDEQ6e_d",
        "outputId": "e1d933b1-51bd-4a25-9a97-5e23a939d5d1"
      },
      "execution_count": 13,
      "outputs": [
        {
          "output_type": "execute_result",
          "data": {
            "text/plain": [
              "array([-0.,  0.,  0.,  3.,  3.,  0.,  0.,  0.,  1.,  3.,  1.])"
            ]
          },
          "metadata": {},
          "execution_count": 13
        }
      ]
    },
    {
      "cell_type": "code",
      "source": [
        "U1, U2, U3 = res.x[8:11]\n",
        "U1, U2, U3"
      ],
      "metadata": {
        "colab": {
          "base_uri": "https://localhost:8080/"
        },
        "id": "P0YL_hKyqmIC",
        "outputId": "9d1b246e-99ae-420e-9726-dd358f9130b7"
      },
      "execution_count": 14,
      "outputs": [
        {
          "output_type": "execute_result",
          "data": {
            "text/plain": [
              "(1.0, 3.0, 1.0)"
            ]
          },
          "metadata": {},
          "execution_count": 14
        }
      ]
    },
    {
      "cell_type": "code",
      "source": [
        "res.message"
      ],
      "metadata": {
        "colab": {
          "base_uri": "https://localhost:8080/",
          "height": 35
        },
        "id": "9hCUZrEm6hhj",
        "outputId": "937bd7e2-62f4-4de6-fa9b-a6d037bff2ea"
      },
      "execution_count": 15,
      "outputs": [
        {
          "output_type": "execute_result",
          "data": {
            "text/plain": [
              "'Optimization terminated successfully. (HiGHS Status 7: Optimal)'"
            ],
            "application/vnd.google.colaboratory.intrinsic+json": {
              "type": "string"
            }
          },
          "metadata": {},
          "execution_count": 15
        }
      ]
    },
    {
      "cell_type": "code",
      "source": [
        "res.nit"
      ],
      "metadata": {
        "colab": {
          "base_uri": "https://localhost:8080/"
        },
        "id": "qkbwzoMWvp3y",
        "outputId": "e9000890-c978-47a1-de6b-6318115faeff"
      },
      "execution_count": 16,
      "outputs": [
        {
          "output_type": "execute_result",
          "data": {
            "text/plain": [
              "1"
            ]
          },
          "metadata": {},
          "execution_count": 16
        }
      ]
    },
    {
      "cell_type": "markdown",
      "source": [
        "The marginals (AKA dual values / shadow prices / Lagrange multipliers) and residuals (slacks) are also available."
      ],
      "metadata": {
        "id": "HXGaN1Lj6oD-"
      }
    },
    {
      "cell_type": "code",
      "source": [
        "res.ineqlin"
      ],
      "metadata": {
        "colab": {
          "base_uri": "https://localhost:8080/"
        },
        "id": "l--nhBbT6kMW",
        "outputId": "1aa15274-3ad7-4d42-ac5a-e12e4201b9a0"
      },
      "execution_count": 17,
      "outputs": [
        {
          "output_type": "execute_result",
          "data": {
            "text/plain": [
              "  residual: []\n",
              " marginals: []"
            ]
          },
          "metadata": {},
          "execution_count": 17
        }
      ]
    },
    {
      "cell_type": "code",
      "source": [
        "res.eqlin"
      ],
      "metadata": {
        "colab": {
          "base_uri": "https://localhost:8080/"
        },
        "id": "iq847JtGXEVz",
        "outputId": "76364c43-3dd6-46cb-cbd8-e4fc8df8b94f"
      },
      "execution_count": 18,
      "outputs": [
        {
          "output_type": "execute_result",
          "data": {
            "text/plain": [
              "  residual: [ 0.000e+00  0.000e+00  0.000e+00  0.000e+00  0.000e+00\n",
              "              0.000e+00]\n",
              " marginals: [ 1.000e+00  2.000e+00 -1.000e+00  1.000e+00 -0.000e+00\n",
              "             -1.000e+00]"
            ]
          },
          "metadata": {},
          "execution_count": 18
        }
      ]
    },
    {
      "cell_type": "code",
      "source": [],
      "metadata": {
        "id": "gdZCCoZuiRXP"
      },
      "execution_count": null,
      "outputs": []
    }
  ]
}