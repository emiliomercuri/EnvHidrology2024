{
  "nbformat": 4,
  "nbformat_minor": 0,
  "metadata": {
    "colab": {
      "provenance": []
    },
    "kernelspec": {
      "name": "python3",
      "display_name": "Python 3"
    },
    "language_info": {
      "name": "python"
    }
  },
  "cells": [
    {
      "cell_type": "markdown",
      "source": [
        "# Exemplo 1\n",
        "\n",
        "Vamos primeiro resolver o problema de programação linear:\n",
        "\n",
        "$$\n",
        "\\begin{aligned}\n",
        "\\text { maximize } \\quad & z=x+2 y \\\\\n",
        "\\text { sujeito a: } \\quad & 2 x+y \\leq 20 \\\\\n",
        "& -4 x+5 y \\leq 10 \\\\\n",
        "& -x+2 y \\geq-2 \\\\\n",
        "& -x+5 y=15 \\\\\n",
        "& x \\geq 0 \\\\\n",
        "& y \\geq 0 \\\\\n",
        "&\n",
        "\\end{aligned}\n",
        "$$\n",
        "\n",
        "Vamos usar a biblioteca `scipy` e o método `linprog()`:\n",
        "\n",
        "* https://docs.scipy.org/doc/scipy/reference/generated/scipy.optimize.linprog.html\n",
        "\n",
        "\n",
        "Para definir e resolver problemas de otimização com SciPy, você precisa importar scipy.optimize.linprog():"
      ],
      "metadata": {
        "id": "fRL3TC1Io7oQ"
      }
    },
    {
      "cell_type": "code",
      "execution_count": 1,
      "metadata": {
        "id": "O094CU4Qome7"
      },
      "outputs": [],
      "source": [
        "from scipy.optimize import linprog"
      ]
    },
    {
      "cell_type": "markdown",
      "source": [
        "`linprog()` resolve apenas problemas de minimização (não de maximização) e não permite restrições de desigualdade com sinal de maior ou igual (≥). Para contornar esses problemas, você precisa modificar seu problema antes de iniciar a otimização:\n",
        "\n",
        "Em vez de maximizar z = x + 2y, você pode minimizar seu negativo (−z = −x − 2y).\n",
        "Em vez de ter o sinal maior ou igual, você pode multiplicar a desigualdade amarela por −1 e obter o oposto menor ou igual ao sinal (≤).\n",
        "Depois de introduzir essas mudanças, você obtém um novo sistema:\n",
        "\n",
        "\n",
        "$$\n",
        "\\begin{aligned}\n",
        " \\text { minimize } \\quad & -z=-x-2 y \\\\\n",
        " \\text { sujeito a: } \\quad & 2 x+y \\leq 20 \\\\\n",
        "& -4 x+5 y \\leq 10 \\\\\n",
        "& x-2 y \\leq 2 \\\\\n",
        "& -x+5 y=15 \\\\\n",
        "& x \\geq 0 \\\\\n",
        "& y \\geq 0 \\\\\n",
        "&\n",
        "\\end{aligned}\n",
        "$$\n",
        "\n",
        "Este sistema é equivalente ao original e terá a mesma solução. A única razão para aplicar essas mudanças é superar as limitações do SciPy relacionadas à formulação do problema."
      ],
      "metadata": {
        "id": "5hb-GpCdpR7A"
      }
    },
    {
      "cell_type": "code",
      "source": [
        "# insert image in a text cell from link in dropbox\n",
        "from IPython.display import Image\n",
        "Image(url=\"https://www.dropbox.com/scl/fi/hvmrrdjx3nnr8xe60ghnc/fig.png?rlkey=gg1r3vvdpfauqnxmbn2up8q6g&st=geug0evr&dl=1\", width=300)"
      ],
      "metadata": {
        "colab": {
          "base_uri": "https://localhost:8080/",
          "height": 251
        },
        "id": "QQOZ1MvsuUox",
        "outputId": "5ff2bc03-1660-4110-e0f6-a3b13d3f221e"
      },
      "execution_count": 2,
      "outputs": [
        {
          "output_type": "execute_result",
          "data": {
            "text/html": [
              "<img src=\"https://www.dropbox.com/scl/fi/hvmrrdjx3nnr8xe60ghnc/fig.png?rlkey=gg1r3vvdpfauqnxmbn2up8q6g&st=geug0evr&dl=1\" width=\"300\"/>"
            ],
            "text/plain": [
              "<IPython.core.display.Image object>"
            ]
          },
          "metadata": {},
          "execution_count": 2
        }
      ]
    },
    {
      "cell_type": "markdown",
      "source": [
        "A próxima etapa é definir os valores de entrada:\n",
        "\n"
      ],
      "metadata": {
        "id": "cIoEwpRwrzBJ"
      }
    },
    {
      "cell_type": "code",
      "source": [
        "obj = [-1, -2]\n",
        "#      ─┬  ─┬\n",
        "#       │   └┤ Coefficient for y\n",
        "#       └────┤ Coefficient for x\n",
        "\n",
        "lhs_ineq = [[ 2,  1],  # Red constraint left side\n",
        "            [-4,  5],  # Blue constraint left side\n",
        "            [ 1, -2]]  # Yellow constraint left side\n",
        "\n",
        "rhs_ineq = [20,  # Red constraint right side\n",
        "            10,  # Blue constraint right side\n",
        "             2]  # Yellow constraint right side\n",
        "\n",
        "lhs_eq = [[-1, 5]]  # Green constraint left side\n",
        "rhs_eq = [15]       # Green constraint right side"
      ],
      "metadata": {
        "id": "dkyY3C1upNFZ"
      },
      "execution_count": 3,
      "outputs": []
    },
    {
      "cell_type": "markdown",
      "source": [
        "Você coloca os valores do sistema acima nas listas, tuplas ou matrizes NumPy apropriadas:\n",
        "\n",
        "* `obj` contém os coeficientes da função objetivo.\n",
        "* `lhs_ineq` contém os coeficientes do lado esquerdo das restrições de desigualdade (vermelho, azul e amarelo).\n",
        "* `rhs_ineq` contém os coeficientes do lado direito das restrições de desigualdade (vermelho, azul e amarelo).\n",
        "* `lhs_eq` contém os coeficientes do lado esquerdo da restrição de igualdade (verde).\n",
        "* `rhs_eq` contém os coeficientes do lado direito da restrição de igualdade (verde)."
      ],
      "metadata": {
        "id": "rYHwmHDYvI_-"
      }
    },
    {
      "cell_type": "markdown",
      "source": [
        "A próxima etapa é definir os limites para cada variável na mesma ordem dos coeficientes. Neste caso, ambos estão entre zero e infinito positivo:"
      ],
      "metadata": {
        "id": "SVo6dDWVvdiT"
      }
    },
    {
      "cell_type": "code",
      "source": [
        "bnd = [(0, float(\"inf\")),  # Bounds of x\n",
        "       (0, float(\"inf\"))]  # Bounds of y"
      ],
      "metadata": {
        "id": "bLEvTO70r3kV"
      },
      "execution_count": 4,
      "outputs": []
    },
    {
      "cell_type": "markdown",
      "source": [
        "Estas duas linhas acima são redundantes porque `linprog()` assume esses limites (de zero a infinito positivo) por padrão."
      ],
      "metadata": {
        "id": "PxE8nKxMvogo"
      }
    },
    {
      "cell_type": "markdown",
      "source": [
        "Finalmente, é hora de otimizar e resolver o problema de seu interesse. Você pode fazer isso com `linprog()`:"
      ],
      "metadata": {
        "id": "Ht6WS2Ktvw25"
      }
    },
    {
      "cell_type": "code",
      "source": [
        "# opt = linprog(c=obj, A_ub=lhs_ineq, b_ub=rhs_ineq,\n",
        "#               A_eq=lhs_eq, b_eq=rhs_eq, bounds=bnd,\n",
        "#               method=\"revised simplex\")\n",
        "\n",
        "opt = linprog(c=obj, A_ub=lhs_ineq, b_ub=rhs_ineq,\n",
        "              A_eq=lhs_eq, b_eq=rhs_eq, bounds=bnd,\n",
        "              method=\"highs\")\n",
        "opt\n"
      ],
      "metadata": {
        "colab": {
          "base_uri": "https://localhost:8080/"
        },
        "id": "xq6wve2fvlQC",
        "outputId": "dd69af6d-ee55-47f8-ba05-1c2571d64ac1"
      },
      "execution_count": 5,
      "outputs": [
        {
          "output_type": "execute_result",
          "data": {
            "text/plain": [
              "        message: Optimization terminated successfully. (HiGHS Status 7: Optimal)\n",
              "        success: True\n",
              "         status: 0\n",
              "            fun: -16.818181818181817\n",
              "              x: [ 7.727e+00  4.545e+00]\n",
              "            nit: 0\n",
              "          lower:  residual: [ 7.727e+00  4.545e+00]\n",
              "                 marginals: [ 0.000e+00  0.000e+00]\n",
              "          upper:  residual: [       inf        inf]\n",
              "                 marginals: [ 0.000e+00  0.000e+00]\n",
              "          eqlin:  residual: [ 0.000e+00]\n",
              "                 marginals: [-2.727e-01]\n",
              "        ineqlin:  residual: [ 0.000e+00  1.818e+01  3.364e+00]\n",
              "                 marginals: [-6.364e-01 -0.000e+00 -0.000e+00]\n",
              " mip_node_count: 0\n",
              " mip_dual_bound: 0.0\n",
              "        mip_gap: 0.0"
            ]
          },
          "metadata": {},
          "execution_count": 5
        }
      ]
    },
    {
      "cell_type": "markdown",
      "source": [
        "O parâmetro c refere-se aos coeficientes da função objetivo. A_ub e b_ub estão relacionados aos coeficientes dos lados esquerdo e direito das restrições de desigualdade, respectivamente. Da mesma forma, A_eq e b_eq referem-se a restrições de igualdade. Você pode usar limites para fornecer os limites inferior e superior nas variáveis de decisão."
      ],
      "metadata": {
        "id": "iYfLVdAfwwi8"
      }
    },
    {
      "cell_type": "markdown",
      "source": [
        "`linprog()` returns a data structure with these attributes:\n",
        "\n",
        "\n",
        "*   .con is the equality constraints residuals.\n",
        "\n",
        "*   .fun is the objective function value at the optimum (if found).\n",
        "\n",
        "*   .message is the status of the solution.\n",
        "\n",
        "*   .nit is the number of iterations needed to finish the calculation.\n",
        "\n",
        "*   .slack is the values of the slack variables, or the differences between the values of the left and right sides of the constraints.\n",
        "\n",
        "*   .status is an integer between 0 and 4 that shows the status of the solution, such as 0 for when the optimal solution has been found.\n",
        "\n",
        "*   .success is a Boolean that shows whether the optimal solution has been found.\n",
        "\n",
        "*   .x is a NumPy array holding the optimal values of the decision variables.\n",
        "\n"
      ],
      "metadata": {
        "id": "GXKaFe0TxMzx"
      }
    },
    {
      "cell_type": "code",
      "source": [
        "opt.fun"
      ],
      "metadata": {
        "colab": {
          "base_uri": "https://localhost:8080/"
        },
        "id": "MvZbQa7uwmzc",
        "outputId": "99787f35-8b0b-43de-b01c-dcd83a77c88e"
      },
      "execution_count": null,
      "outputs": [
        {
          "output_type": "execute_result",
          "data": {
            "text/plain": [
              "-16.818181818181817"
            ]
          },
          "metadata": {},
          "execution_count": 14
        }
      ]
    },
    {
      "cell_type": "code",
      "source": [
        "opt.success"
      ],
      "metadata": {
        "colab": {
          "base_uri": "https://localhost:8080/"
        },
        "id": "5A35maRFxdCX",
        "outputId": "d22f2a5f-1ddd-4e35-a8a2-fbb648ba2664"
      },
      "execution_count": null,
      "outputs": [
        {
          "output_type": "execute_result",
          "data": {
            "text/plain": [
              "True"
            ]
          },
          "metadata": {},
          "execution_count": 15
        }
      ]
    },
    {
      "cell_type": "code",
      "source": [
        "opt.x"
      ],
      "metadata": {
        "colab": {
          "base_uri": "https://localhost:8080/"
        },
        "id": "Da-U0cHOxfWG",
        "outputId": "29c8b91c-5cfb-412b-f5cd-092d5e8476aa"
      },
      "execution_count": null,
      "outputs": [
        {
          "output_type": "execute_result",
          "data": {
            "text/plain": [
              "array([7.72727273, 4.54545455])"
            ]
          },
          "metadata": {},
          "execution_count": 16
        }
      ]
    },
    {
      "cell_type": "code",
      "source": [
        "# insert image in a text cell from link in dropbox\n",
        "from IPython.display import Image\n",
        "Image(url=\"https://www.dropbox.com/scl/fi/kt4kirmzs8uhgiymckzoe/fig2.png?rlkey=9eufi537m72c33e8r87afxdht&st=76jrl932&dl=1\", width=400)"
      ],
      "metadata": {
        "colab": {
          "base_uri": "https://localhost:8080/",
          "height": 422
        },
        "id": "bw72Xh0Lv1mL",
        "outputId": "a534bab0-5c01-453b-be40-e8424ae8167e"
      },
      "execution_count": null,
      "outputs": [
        {
          "output_type": "execute_result",
          "data": {
            "text/html": [
              "<img src=\"https://www.dropbox.com/scl/fi/kt4kirmzs8uhgiymckzoe/fig2.png?rlkey=9eufi537m72c33e8r87afxdht&st=76jrl932&dl=1\" width=\"400\"/>"
            ],
            "text/plain": [
              "<IPython.core.display.Image object>"
            ]
          },
          "metadata": {},
          "execution_count": 12
        }
      ]
    },
    {
      "cell_type": "code",
      "source": [],
      "metadata": {
        "id": "T3AFt9DrxgK4"
      },
      "execution_count": null,
      "outputs": []
    }
  ]
}